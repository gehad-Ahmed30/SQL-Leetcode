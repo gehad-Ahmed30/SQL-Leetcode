{
 "cells": [
  {
   "cell_type": "markdown",
   "metadata": {},
   "source": [
    "## Table: Activity\n",
    "\n",
    "- +----------------+---------+\n",
    "- | Column Name    | Type    |\n",
    "- +----------------+---------+\n",
    "- | machine_id     | int     |\n",
    "- | process_id     | int     |\n",
    "- | activity_type  | enum    |\n",
    "- | timestamp      | float   |\n",
    "- +----------------+---------+\n",
    "## The table shows the user activities for a factory website.\n",
    "(machine_id, process_id, activity_type) is the primary key (combination of columns with unique values) of this table.\n",
    "machine_id is the ID of a machine.\n",
    "process_id is the ID of a process running on the machine with ID machine_id.\n",
    "activity_type is an ENUM (category) of type ('start', 'end').\n",
    "timestamp is a float representing the current time in seconds.\n",
    "'start' means the machine starts the process at the given timestamp and 'end' means the machine ends the process at the given timestamp.\n",
    "### The 'start' timestamp will always be before the 'end' timestamp for every (machine_id, process_id) pair.\n",
    "It is guaranteed that each (machine_id, process_id) pair has a 'start' and 'end' timestamp.\n",
    " \n",
    "\n",
    "### There is a factory website that has several machines each running the same number of processes. Write a solution to find the average time each machine takes to complete a process.\n",
    "\n",
    "### The time to complete a process is the 'end' timestamp minus the 'start' timestamp. The average time is calculated by the total time to complete every process on the machine divided by the number of processes that were run.\n",
    "\n",
    "### The resulting table should have the machine_id along with the average time as processing_time, which should be rounded to 3 decimal places.\n",
    "\n",
    "- Return the result table in any order."
   ]
  },
  {
   "cell_type": "markdown",
   "metadata": {},
   "source": [
    "## solution with SQL\n",
    "-   SELECT machine_id , ROUND (AVG(end_time - start_time),3) AS processing_time\n",
    "-   FROM (\n",
    "-     SELECT machine_id, process_id,\n",
    "-      MAX(CASE WHEN activity_type = 'end'THEN timestamp END) AS end_time,\n",
    "-      MIN(CASE WHEN activity_type='start' THEN timestamp END) AS start_time \n",
    "\n",
    "-      FROM Activity\n",
    "-      GROUP BY machine_id,process_id\n",
    "\n",
    "-    ) AS processing_time\n",
    "-    GROUP BY machine_id;"
   ]
  },
  {
   "cell_type": "markdown",
   "metadata": {},
   "source": [
    "## Solution with pandas"
   ]
  },
  {
   "cell_type": "code",
   "execution_count": 4,
   "metadata": {},
   "outputs": [
    {
     "name": "stdout",
     "output_type": "stream",
     "text": [
      "   machine_id  processing_time\n",
      "0           0            0.894\n",
      "1           1            0.995\n",
      "2           2            1.456\n"
     ]
    }
   ],
   "source": [
    "import pandas as pd\n",
    "data = {\n",
    "    \"machine_id\": [0, 0, 0, 0, 1, 1, 1, 1, 2, 2, 2, 2],\n",
    "    \"process_id\": [0, 0, 1, 1, 0, 0, 1, 1, 0, 0, 1, 1],\n",
    "    \"activity_type\": ['start', 'end', 'start', 'end', 'start', 'end', 'start', 'end', 'start', 'end', 'start', 'end'],\n",
    "    \"timestamp\": [0.712, 1.520, 3.140, 4.120, 0.550, 1.550, 0.430, 1.420, 4.100, 4.512, 2.500, 5.000]\n",
    "}\n",
    "df = pd.DataFrame(data)\n",
    "df_start = df[df['activity_type'] == 'start'].rename(columns={'timestamp': 'start_time'})\n",
    "df_end = df[df['activity_type'] == 'end'].rename(columns={'timestamp': 'end_time'})\n",
    "merged = pd.merge(df_start, df_end, on=['machine_id', 'process_id'])\n",
    "merged['process_time'] = merged['end_time'] - merged['start_time']\n",
    "result = merged.groupby(\"machine_id\")['process_time'].mean().reset_index()\n",
    "result['processing_time'] = result['process_time'].round(3)\n",
    "result = result[['machine_id', 'processing_time']]\n",
    "print(result)\n"
   ]
  }
 ],
 "metadata": {
  "kernelspec": {
   "display_name": "Python 3",
   "language": "python",
   "name": "python3"
  },
  "language_info": {
   "codemirror_mode": {
    "name": "ipython",
    "version": 3
   },
   "file_extension": ".py",
   "mimetype": "text/x-python",
   "name": "python",
   "nbconvert_exporter": "python",
   "pygments_lexer": "ipython3",
   "version": "3.11.6"
  }
 },
 "nbformat": 4,
 "nbformat_minor": 2
}
