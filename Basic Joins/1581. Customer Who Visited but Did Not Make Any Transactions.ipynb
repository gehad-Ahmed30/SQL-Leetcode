{
 "cells": [
  {
   "cell_type": "markdown",
   "metadata": {},
   "source": [
    "## Table: Visits\n",
    "\n",
    "- +-------------+---------+\n",
    "- | Column Name | Type    |\n",
    "- +-------------+---------+\n",
    "- | visit_id    | int     |\n",
    "- | customer_id | int     |\n",
    "- +-------------+---------+\n",
    "## visit_id is the column with unique values for this table.\n",
    "This table contains information about the customers who visited the mall.\n",
    " \n",
    "\n",
    "## Table: Transactions\n",
    "\n",
    "- +----------------+---------+\n",
    "- | Column Name    | Type    |\n",
    "- +----------------+---------+\n",
    "- | transaction_id | int     |\n",
    "- | visit_id       | int     |\n",
    "- | amount         | int     |\n",
    "- +----------------+---------+\n",
    "## transaction_id is column with unique values for this table.\n",
    "This table contains information about the transactions made during the visit_id.\n",
    " \n",
    "\n",
    "## Write a solution to find the IDs of the users who visited without making any transactions and the number of times they made these types of visits.\n",
    "\n",
    "- Return the result table sorted in any order."
   ]
  },
  {
   "cell_type": "markdown",
   "metadata": {},
   "source": [
    "## solution with SQL\n",
    "- SELECT Visits.customer_id , count(Visits.visit_id) AS count_no_trans\n",
    "- FROM Visits\n",
    "- LEFT JOIN Transactions\n",
    "- ON Visits.visit_id = Transactions.visit_id\n",
    "- WHERE Transactions.transaction_id is NULL \n",
    "- group by Visits.customer_id;"
   ]
  },
  {
   "cell_type": "markdown",
   "metadata": {},
   "source": [
    "## Solution with pandas"
   ]
  },
  {
   "cell_type": "code",
   "execution_count": 1,
   "metadata": {},
   "outputs": [
    {
     "data": {
      "text/html": [
       "<div>\n",
       "<style scoped>\n",
       "    .dataframe tbody tr th:only-of-type {\n",
       "        vertical-align: middle;\n",
       "    }\n",
       "\n",
       "    .dataframe tbody tr th {\n",
       "        vertical-align: top;\n",
       "    }\n",
       "\n",
       "    .dataframe thead th {\n",
       "        text-align: right;\n",
       "    }\n",
       "</style>\n",
       "<table border=\"1\" class=\"dataframe\">\n",
       "  <thead>\n",
       "    <tr style=\"text-align: right;\">\n",
       "      <th></th>\n",
       "      <th>customer_id</th>\n",
       "      <th>count_no_trans</th>\n",
       "    </tr>\n",
       "  </thead>\n",
       "  <tbody>\n",
       "    <tr>\n",
       "      <th>0</th>\n",
       "      <td>30</td>\n",
       "      <td>1</td>\n",
       "    </tr>\n",
       "    <tr>\n",
       "      <th>1</th>\n",
       "      <td>54</td>\n",
       "      <td>2</td>\n",
       "    </tr>\n",
       "    <tr>\n",
       "      <th>2</th>\n",
       "      <td>96</td>\n",
       "      <td>1</td>\n",
       "    </tr>\n",
       "  </tbody>\n",
       "</table>\n",
       "</div>"
      ],
      "text/plain": [
       "   customer_id  count_no_trans\n",
       "0           30               1\n",
       "1           54               2\n",
       "2           96               1"
      ]
     },
     "execution_count": 1,
     "metadata": {},
     "output_type": "execute_result"
    }
   ],
   "source": [
    "import pandas as pd  \n",
    "visits_data = {\n",
    "    \"visit_id\": [1, 2, 4, 5, 6, 7, 8],\n",
    "    \"customer_id\": [23, 9, 30, 54, 96, 54, 54]\n",
    "}\n",
    "transactions_data = {\n",
    "    \"transaction_id\": [2, 3, 9, 12, 13],\n",
    "    \"visit_id\": [5, 5, 5, 1, 2],\n",
    "    \"amount\": [310, 300, 200, 910, 970]\n",
    "}\n",
    "visits_data_df=pd.DataFrame(visits_data)\n",
    "transactions_data_df=pd.DataFrame(transactions_data)\n",
    "result=pd.merge(visits_data_df,transactions_data_df,on='visit_id',how='left')\n",
    "result=result[result['transaction_id'].isna()]\n",
    "R=result.groupby('customer_id').size().reset_index(name='count_no_trans')\n",
    "R"
   ]
  }
 ],
 "metadata": {
  "kernelspec": {
   "display_name": "Python 3",
   "language": "python",
   "name": "python3"
  },
  "language_info": {
   "codemirror_mode": {
    "name": "ipython",
    "version": 3
   },
   "file_extension": ".py",
   "mimetype": "text/x-python",
   "name": "python",
   "nbconvert_exporter": "python",
   "pygments_lexer": "ipython3",
   "version": "3.11.6"
  }
 },
 "nbformat": 4,
 "nbformat_minor": 2
}
