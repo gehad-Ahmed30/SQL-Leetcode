{
 "cells": [
  {
   "cell_type": "markdown",
   "metadata": {},
   "source": [
    "## Table: Employee\n",
    "\n",
    "- +-------------+---------+\n",
    "- | Column Name | Type    |\n",
    "- +-------------+---------+\n",
    "- | empId       | int     |\n",
    "- | name        | varchar |\n",
    "- | supervisor  | int     |\n",
    "- | salary      | int     |\n",
    "- +-------------+---------+\n",
    "## empId is the column with unique values for this table.\n",
    "Each row of this table indicates the name and the ID of an employee in addition to their salary and the id of their manager.\n",
    " \n",
    "\n",
    "## Table: Bonus\n",
    "\n",
    "- +-------------+------+\n",
    "- | Column Name | Type |\n",
    "- +-------------+------+\n",
    "- | empId       | int  |\n",
    "- | bonus       | int  |\n",
    "- +-------------+------+\n",
    "## empId is the column of unique values for this table.\n",
    "### empId is a foreign key (reference column) to empId from the Employee table.\n",
    "### Each row of this table contains the id of an employee and their respective bonus.\n",
    " \n",
    "\n",
    "## Write a solution to report the name and bonus amount of each employee with a bonus less than 1000.\n",
    "\n",
    "- Return the result table in any order."
   ]
  },
  {
   "cell_type": "markdown",
   "metadata": {},
   "source": [
    "## Solution with SQL\n",
    "- SELECT Employee.name , Bonus.bonus\n",
    "- FROM Employee\n",
    "- LEFT JOIN Bonus\n",
    "- ON Employee.empId=Bonus.empId\n",
    "- WHERE Bonus.bonus < 1000 OR Bonus.bonus IS NULL;"
   ]
  },
  {
   "cell_type": "markdown",
   "metadata": {},
   "source": [
    "## Solution With Pandas"
   ]
  },
  {
   "cell_type": "code",
   "execution_count": 4,
   "metadata": {},
   "outputs": [
    {
     "data": {
      "text/html": [
       "<div>\n",
       "<style scoped>\n",
       "    .dataframe tbody tr th:only-of-type {\n",
       "        vertical-align: middle;\n",
       "    }\n",
       "\n",
       "    .dataframe tbody tr th {\n",
       "        vertical-align: top;\n",
       "    }\n",
       "\n",
       "    .dataframe thead th {\n",
       "        text-align: right;\n",
       "    }\n",
       "</style>\n",
       "<table border=\"1\" class=\"dataframe\">\n",
       "  <thead>\n",
       "    <tr style=\"text-align: right;\">\n",
       "      <th></th>\n",
       "      <th>name</th>\n",
       "      <th>bonus</th>\n",
       "    </tr>\n",
       "  </thead>\n",
       "  <tbody>\n",
       "    <tr>\n",
       "      <th>0</th>\n",
       "      <td>Alice</td>\n",
       "      <td>500.0</td>\n",
       "    </tr>\n",
       "    <tr>\n",
       "      <th>2</th>\n",
       "      <td>Charlie</td>\n",
       "      <td>NaN</td>\n",
       "    </tr>\n",
       "    <tr>\n",
       "      <th>3</th>\n",
       "      <td>David</td>\n",
       "      <td>NaN</td>\n",
       "    </tr>\n",
       "  </tbody>\n",
       "</table>\n",
       "</div>"
      ],
      "text/plain": [
       "      name  bonus\n",
       "0    Alice  500.0\n",
       "2  Charlie    NaN\n",
       "3    David    NaN"
      ]
     },
     "execution_count": 4,
     "metadata": {},
     "output_type": "execute_result"
    }
   ],
   "source": [
    "import pandas as pd  \n",
    "employee_data = {\n",
    "    \"empId\": [1, 2, 3, 4],\n",
    "    \"name\": [\"Alice\", \"Bob\", \"Charlie\", \"David\"]\n",
    "}\n",
    "bonus_data = {\n",
    "    \"empId\": [1, 2, 4],\n",
    "    \"bonus\": [500, 2000, None]  \n",
    "}\n",
    "employee_df = pd.DataFrame(employee_data)\n",
    "bonus_df=pd.DataFrame(bonus_data)\n",
    "merged_df=pd.merge(employee_df,bonus_df,on=['empId'],how='left')\n",
    "result_df=merged_df[(merged_df['bonus']< 1000) | (merged_df['bonus'].isna())]\n",
    "result_df=result_df[['name','bonus']]\n",
    "result_df"
   ]
  }
 ],
 "metadata": {
  "kernelspec": {
   "display_name": "Python 3",
   "language": "python",
   "name": "python3"
  },
  "language_info": {
   "codemirror_mode": {
    "name": "ipython",
    "version": 3
   },
   "file_extension": ".py",
   "mimetype": "text/x-python",
   "name": "python",
   "nbconvert_exporter": "python",
   "pygments_lexer": "ipython3",
   "version": "3.11.6"
  }
 },
 "nbformat": 4,
 "nbformat_minor": 2
}
