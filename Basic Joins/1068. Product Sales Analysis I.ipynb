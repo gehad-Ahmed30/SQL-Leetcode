{
 "cells": [
  {
   "cell_type": "markdown",
   "metadata": {},
   "source": [
    "## Table: Sales\n",
    "\n",
    "- +-------------+-------+\n",
    "- | Column Name | Type  |\n",
    "- +-------------+-------+\n",
    "- | sale_id     | int   |\n",
    "- | product_id  | int   |\n",
    "- | year        | int   |\n",
    "- | quantity    | int   |\n",
    "- | price       | int   |\n",
    "- +-------------+-------+\n",
    "## (sale_id, year) is the primary key (combination of columns with unique values) of this table.\n",
    "product_id is a foreign key (reference column) to Product table.\n",
    "Each row of this table shows a sale on the product product_id in a certain year.\n",
    "Note that the price is per unit.\n",
    " \n",
    "\n",
    "## Table: Product\n",
    "\n",
    "- +--------------+---------+\n",
    "- | Column Name  | Type    |\n",
    "- +--------------+---------+\n",
    "- | product_id   | int     |\n",
    "- | product_name | varchar |\n",
    "- +--------------+---------+\n",
    "## product_id is the primary key (column with unique values) of this table.\n",
    "Each row of this table indicates the product name of each product.\n",
    " \n",
    "\n",
    "## Write a solution to report the product_name, year, and price for each sale_id in the Sales table.\n",
    "\n",
    "- Return the resulting table in any order."
   ]
  },
  {
   "cell_type": "markdown",
   "metadata": {},
   "source": [
    "## Solution with SQL \n",
    "- SELECT Product.product_name , Sales.year , Sales.price\n",
    "- FROM Sales\n",
    "- INNER JOIN Product\n",
    "- ON Product.product_id=Sales.product_id;"
   ]
  },
  {
   "cell_type": "markdown",
   "metadata": {},
   "source": [
    "## Solution with pandas"
   ]
  },
  {
   "cell_type": "code",
   "execution_count": 2,
   "metadata": {},
   "outputs": [
    {
     "data": {
      "text/html": [
       "<div>\n",
       "<style scoped>\n",
       "    .dataframe tbody tr th:only-of-type {\n",
       "        vertical-align: middle;\n",
       "    }\n",
       "\n",
       "    .dataframe tbody tr th {\n",
       "        vertical-align: top;\n",
       "    }\n",
       "\n",
       "    .dataframe thead th {\n",
       "        text-align: right;\n",
       "    }\n",
       "</style>\n",
       "<table border=\"1\" class=\"dataframe\">\n",
       "  <thead>\n",
       "    <tr style=\"text-align: right;\">\n",
       "      <th></th>\n",
       "      <th>product_name</th>\n",
       "      <th>year</th>\n",
       "      <th>price</th>\n",
       "    </tr>\n",
       "  </thead>\n",
       "  <tbody>\n",
       "    <tr>\n",
       "      <th>0</th>\n",
       "      <td>Nokia</td>\n",
       "      <td>2008</td>\n",
       "      <td>5000</td>\n",
       "    </tr>\n",
       "    <tr>\n",
       "      <th>1</th>\n",
       "      <td>Nokia</td>\n",
       "      <td>2009</td>\n",
       "      <td>5000</td>\n",
       "    </tr>\n",
       "    <tr>\n",
       "      <th>2</th>\n",
       "      <td>Apple</td>\n",
       "      <td>2011</td>\n",
       "      <td>9000</td>\n",
       "    </tr>\n",
       "  </tbody>\n",
       "</table>\n",
       "</div>"
      ],
      "text/plain": [
       "  product_name  year  price\n",
       "0        Nokia  2008   5000\n",
       "1        Nokia  2009   5000\n",
       "2        Apple  2011   9000"
      ]
     },
     "execution_count": 2,
     "metadata": {},
     "output_type": "execute_result"
    }
   ],
   "source": [
    "import pandas as pd  \n",
    "sales_data = {\n",
    "    \"sale_id\": [1, 2, 7],\n",
    "    \"product_id\": [100, 100, 200],\n",
    "    \"year\": [2008, 2009, 2011],\n",
    "    \"quantity\": [10, 12, 15],\n",
    "    \"price\": [5000, 5000, 9000]\n",
    "}\n",
    "product_data = {\n",
    "    \"product_id\": [100, 200, 300],\n",
    "    \"product_name\": [\"Nokia\", \"Apple\", \"Samsung\"]\n",
    "}\n",
    "sales_data_df=pd.DataFrame(sales_data)\n",
    "product_data_df=pd.DataFrame(product_data)\n",
    "result=pd.merge(sales_data_df,product_data_df,on='product_id',how='inner')\n",
    "result=result[['product_name','year','price']]\n",
    "result"
   ]
  }
 ],
 "metadata": {
  "kernelspec": {
   "display_name": "Python 3",
   "language": "python",
   "name": "python3"
  },
  "language_info": {
   "codemirror_mode": {
    "name": "ipython",
    "version": 3
   },
   "file_extension": ".py",
   "mimetype": "text/x-python",
   "name": "python",
   "nbconvert_exporter": "python",
   "pygments_lexer": "ipython3",
   "version": "3.11.6"
  }
 },
 "nbformat": 4,
 "nbformat_minor": 2
}
