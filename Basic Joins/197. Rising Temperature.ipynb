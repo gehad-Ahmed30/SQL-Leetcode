{
 "cells": [
  {
   "cell_type": "markdown",
   "metadata": {},
   "source": [
    "## Table: Weather\n",
    "\n",
    "- +---------------+---------+\n",
    "- | Column Name   | Type    |\n",
    "- +---------------+---------+\n",
    "- | id            | int     |\n",
    "- | recordDate    | date    |\n",
    "- | temperature   | int     |\n",
    "- +---------------+---------+\n",
    "## id is the column with unique values for this table.\n",
    "There are no different rows with the same recordDate.\n",
    "This table contains information about the temperature on a certain day.\n",
    " \n",
    "\n",
    "## Write a solution to find all dates' id with higher temperatures compared to its previous dates (yesterday).\n",
    "\n",
    "- Return the result table in any order."
   ]
  },
  {
   "cell_type": "markdown",
   "metadata": {},
   "source": [
    "## Solution with SQL\n",
    "- SELECT Weather.id \n",
    "- FROM Weather\n",
    "- join Weather w2\n",
    "- ON DATE(Weather.recordDate)=DATE(w2.recordDate)+ INTERVAL 1 DAY\n",
    "- WHERE Weather.temperature >  w2.temperature;"
   ]
  },
  {
   "cell_type": "markdown",
   "metadata": {},
   "source": [
    "## Solution with pandas"
   ]
  },
  {
   "cell_type": "code",
   "execution_count": 1,
   "metadata": {},
   "outputs": [
    {
     "data": {
      "text/html": [
       "<div>\n",
       "<style scoped>\n",
       "    .dataframe tbody tr th:only-of-type {\n",
       "        vertical-align: middle;\n",
       "    }\n",
       "\n",
       "    .dataframe tbody tr th {\n",
       "        vertical-align: top;\n",
       "    }\n",
       "\n",
       "    .dataframe thead th {\n",
       "        text-align: right;\n",
       "    }\n",
       "</style>\n",
       "<table border=\"1\" class=\"dataframe\">\n",
       "  <thead>\n",
       "    <tr style=\"text-align: right;\">\n",
       "      <th></th>\n",
       "      <th>id</th>\n",
       "    </tr>\n",
       "  </thead>\n",
       "  <tbody>\n",
       "    <tr>\n",
       "      <th>1</th>\n",
       "      <td>2</td>\n",
       "    </tr>\n",
       "    <tr>\n",
       "      <th>3</th>\n",
       "      <td>4</td>\n",
       "    </tr>\n",
       "  </tbody>\n",
       "</table>\n",
       "</div>"
      ],
      "text/plain": [
       "   id\n",
       "1   2\n",
       "3   4"
      ]
     },
     "execution_count": 1,
     "metadata": {},
     "output_type": "execute_result"
    }
   ],
   "source": [
    "import pandas as pd  \n",
    "data = {\n",
    "    \"id\": [1, 2, 3, 4],\n",
    "    \"recordDate\": [\"2015-01-01\", \"2015-01-02\", \"2015-01-03\", \"2015-01-04\"],\n",
    "    \"temperature\": [10, 25, 20, 30],\n",
    "}\n",
    "data_df=pd.DataFrame(data)\n",
    "data_df['recordDate']=pd.to_datetime(data_df['recordDate'])\n",
    "data_df=data_df.sort_values(by='recordDate')\n",
    "data_df['temp_diff']=data_df['temperature'].diff()\n",
    "result=data_df.loc[data_df['temp_diff']>0,['id']]\n",
    "result"
   ]
  }
 ],
 "metadata": {
  "kernelspec": {
   "display_name": "Python 3",
   "language": "python",
   "name": "python3"
  },
  "language_info": {
   "codemirror_mode": {
    "name": "ipython",
    "version": 3
   },
   "file_extension": ".py",
   "mimetype": "text/x-python",
   "name": "python",
   "nbconvert_exporter": "python",
   "pygments_lexer": "ipython3",
   "version": "3.11.6"
  }
 },
 "nbformat": 4,
 "nbformat_minor": 2
}
