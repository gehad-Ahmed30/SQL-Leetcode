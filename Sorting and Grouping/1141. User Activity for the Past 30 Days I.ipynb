{
 "cells": [
  {
   "cell_type": "markdown",
   "metadata": {},
   "source": [
    "## Problem Statement\n",
    "\n",
    "Table: Activity\n",
    "\n",
    "| Column Name   | Type    |\n",
    "|---------------|---------|\n",
    "| user_id       | int     |\n",
    "| session_id    | int     |\n",
    "| activity_date | date    |\n",
    "| activity_type | enum    |\n",
    "\n",
    "This table may have duplicate rows. The activity_type column is an ENUM (category) of type ('open_session', 'end_session', 'scroll_down', 'send_message'). The table shows the user activities for a social media website. Note that each session belongs to exactly one user.\n",
    "\n",
    "### Task\n",
    "\n",
    "Write a solution to find the daily active user count for a period of 30 days ending 2019-07-27 inclusively. A user was active on a given day if they made at least one activity on that day.\n",
    "\n",
    "Return the result table in any order."
   ]
  },
  {
   "cell_type": "markdown",
   "metadata": {},
   "source": [
    "## Solution with SQL"
   ]
  },
  {
   "cell_type": "markdown",
   "metadata": {},
   "source": [
    "```sql\n",
    "SELECT activity_date AS day, COUNT(DISTINCT user_id) AS active_users\n",
    "FROM Activity\n",
    "WHERE activity_date BETWEEN '2019-06-25' AND '2019-07-24'\n",
    "GROUP BY activity_date\n",
    "ORDER BY activity_date;\n"
   ]
  },
  {
   "cell_type": "markdown",
   "metadata": {},
   "source": [
    "## Solution with pandas"
   ]
  },
  {
   "cell_type": "code",
   "execution_count": 1,
   "metadata": {},
   "outputs": [
    {
     "data": {
      "text/html": [
       "<div>\n",
       "<style scoped>\n",
       "    .dataframe tbody tr th:only-of-type {\n",
       "        vertical-align: middle;\n",
       "    }\n",
       "\n",
       "    .dataframe tbody tr th {\n",
       "        vertical-align: top;\n",
       "    }\n",
       "\n",
       "    .dataframe thead th {\n",
       "        text-align: right;\n",
       "    }\n",
       "</style>\n",
       "<table border=\"1\" class=\"dataframe\">\n",
       "  <thead>\n",
       "    <tr style=\"text-align: right;\">\n",
       "      <th></th>\n",
       "      <th>day</th>\n",
       "      <th>active_users</th>\n",
       "    </tr>\n",
       "  </thead>\n",
       "  <tbody>\n",
       "    <tr>\n",
       "      <th>0</th>\n",
       "      <td>2019-07-20</td>\n",
       "      <td>2</td>\n",
       "    </tr>\n",
       "    <tr>\n",
       "      <th>1</th>\n",
       "      <td>2019-07-21</td>\n",
       "      <td>2</td>\n",
       "    </tr>\n",
       "  </tbody>\n",
       "</table>\n",
       "</div>"
      ],
      "text/plain": [
       "         day  active_users\n",
       "0 2019-07-20             2\n",
       "1 2019-07-21             2"
      ]
     },
     "execution_count": 1,
     "metadata": {},
     "output_type": "execute_result"
    }
   ],
   "source": [
    "import pandas as pd  \n",
    "data = {\n",
    "    \"user_id\": [1, 1, 1, 2, 2, 2, 3, 3, 3, 4, 4],\n",
    "    \"session_id\": [1, 1, 1, 4, 4, 4, 2, 2, 2, 3, 3],\n",
    "    \"activity_date\": ['2019-07-20', '2019-07-20', '2019-07-20', \n",
    "                      '2019-07-20', '2019-07-21', '2019-07-21', \n",
    "                      '2019-07-21', '2019-07-21', '2019-07-21', \n",
    "                      '2019-06-25', '2019-06-25']\n",
    "}\n",
    "df = pd.DataFrame(data)\n",
    "df['activity_date']=pd.to_datetime(df['activity_date'])\n",
    "start_date = '2019-06-28'\n",
    "end_date = '2019-07-27'\n",
    "result=(df[(df['activity_date'] >=start_date) & (df['activity_date'] <=end_date)]\n",
    ".groupby('activity_date')\n",
    ".agg(active_users=('user_id', 'nunique'))\n",
    ".reset_index())\n",
    "\n",
    "result.rename(columns={'activity_date':'day'},inplace=True)\n",
    "result"
   ]
  }
 ],
 "metadata": {
  "kernelspec": {
   "display_name": "Python 3",
   "language": "python",
   "name": "python3"
  },
  "language_info": {
   "codemirror_mode": {
    "name": "ipython",
    "version": 3
   },
   "file_extension": ".py",
   "mimetype": "text/x-python",
   "name": "python",
   "nbconvert_exporter": "python",
   "pygments_lexer": "ipython3",
   "version": "3.11.6"
  }
 },
 "nbformat": 4,
 "nbformat_minor": 2
}
