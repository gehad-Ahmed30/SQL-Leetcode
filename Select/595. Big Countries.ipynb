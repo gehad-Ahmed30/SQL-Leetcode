{
 "cells": [
  {
   "cell_type": "markdown",
   "metadata": {},
   "source": [
    "## Table: World\n",
    "\n",
    "- +-------------+---------+\n",
    "- | Column Name | Type    |\n",
    "- +-------------+---------+\n",
    "- | name        | varchar |\n",
    "- | continent   | varchar |\n",
    "- | area        | int     |\n",
    "- | population  | int     |\n",
    "- | gdp         | bigint  |\n",
    "- +-------------+---------+\n",
    "### name is the primary key (column with unique values) for this table.\n",
    "Each row of this table gives information about the name of a country, the continent to which it belongs, its area, the population, and its GDP value.\n",
    " \n",
    "\n",
    "## A country is big if:\n",
    "\n",
    "- it has an area of at least three million (i.e., 3000000 km2), or\n",
    "- it has a population of at least twenty-five million (i.e., 25000000).\n",
    "- Write a solution to find the name, population, and area of the big countries.\n",
    "\n",
    "Return the result table in any order."
   ]
  },
  {
   "cell_type": "markdown",
   "metadata": {},
   "source": [
    "## Solution with SQL\n",
    "- SELECT name , population ,area FROM World\n",
    "- WHERE (area >= 3000000 ) OR (population >= 25000000);"
   ]
  },
  {
   "cell_type": "markdown",
   "metadata": {},
   "source": [
    "## Solution with Pandas"
   ]
  },
  {
   "cell_type": "code",
   "execution_count": null,
   "metadata": {},
   "outputs": [],
   "source": [
    "Result=World[(World['area']>= 3000000) | (World['population']>=25000000)][['name','population','area']]"
   ]
  }
 ],
 "metadata": {
  "kernelspec": {
   "display_name": "Python 3",
   "language": "python",
   "name": "python3"
  },
  "language_info": {
   "name": "python",
   "version": "3.11.6"
  }
 },
 "nbformat": 4,
 "nbformat_minor": 2
}
