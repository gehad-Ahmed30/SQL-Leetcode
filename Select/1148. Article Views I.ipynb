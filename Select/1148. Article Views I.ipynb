{
 "cells": [
  {
   "cell_type": "markdown",
   "metadata": {},
   "source": [
    "## Table: Views\n",
    "\n",
    "- +---------------+---------+\n",
    "- | Column Name   | Type    |\n",
    "- +---------------+---------+\n",
    "- | article_id    | int     |\n",
    "- | author_id     | int     |\n",
    "- | viewer_id     | int     |\n",
    "- | view_date     | date    |\n",
    "- +---------------+---------+\n",
    "\n",
    "### There is no primary key (column with unique values) for this table, the table may have duplicate rows. Each row of this table indicates that some viewer viewed an article (written by some author) on some date. Note that equal author_id and viewer_id indicate the same person.\n",
    "\n",
    "### Write a solution to find all the authors that viewed at least one of their own articles.\n",
    "\n",
    "- Return the result table sorted by id in ascending order.\n"
   ]
  },
  {
   "cell_type": "markdown",
   "metadata": {},
   "source": [
    "## Solution with SQL\n",
    "- SELECT DISTINCT author_id AS id FROM Views\n",
    "- WHERE author_id=viewer_id\n",
    "- ORDER BY id ASC;"
   ]
  },
  {
   "cell_type": "markdown",
   "metadata": {},
   "source": [
    "## Solution With pandas"
   ]
  },
  {
   "cell_type": "code",
   "execution_count": null,
   "metadata": {},
   "outputs": [],
   "source": [
    "result = views[views['author_id'] == views['viewer_id']]['author_id'].drop_duplicates()\n",
    "result = result.sort_values().reset_index(drop=True)"
   ]
  }
 ],
 "metadata": {
  "kernelspec": {
   "display_name": "Python 3",
   "language": "python",
   "name": "python3"
  },
  "language_info": {
   "name": "python",
   "version": "3.11.6"
  }
 },
 "nbformat": 4,
 "nbformat_minor": 2
}
