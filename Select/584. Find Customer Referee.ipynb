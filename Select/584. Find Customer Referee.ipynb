{
 "cells": [
  {
   "cell_type": "markdown",
   "metadata": {},
   "source": [
    "## Table: Customer\n",
    "\n",
    "- +-------------+---------+\n",
    "- | Column Name | Type    |\n",
    "- +-------------+---------+\n",
    "- | id          | int     |\n",
    "- | name        | varchar |\n",
    "- | referee_id  | int     |\n",
    "- +-------------+---------+\n",
    "\n",
    "### In SQL, id is the primary key column for this table.\n",
    "Each row of this table indicates the id of a customer, their name, and the id of the customer who referred them.\n",
    " \n",
    "\n",
    "## Find the names of the customer that are not referred by the customer with id = 2.\n",
    "\n",
    "- Return the result table in any order."
   ]
  },
  {
   "cell_type": "markdown",
   "metadata": {},
   "source": [
    "## Solution with SQL\n",
    "- SELECT name FROM Customer\n",
    "- WHERE referee_id is null OR referee_id <> 2;"
   ]
  },
  {
   "cell_type": "markdown",
   "metadata": {},
   "source": [
    "## Solution with pandas"
   ]
  },
  {
   "cell_type": "code",
   "execution_count": null,
   "metadata": {
    "vscode": {
     "languageId": "plaintext"
    }
   },
   "outputs": [],
   "source": [
    "Result=Customer[(Customer['referee_id'].isna()) |  (Customer['referee_id'] != 2)]['name']"
   ]
  }
 ],
 "metadata": {
  "language_info": {
   "name": "python"
  }
 },
 "nbformat": 4,
 "nbformat_minor": 2
}
